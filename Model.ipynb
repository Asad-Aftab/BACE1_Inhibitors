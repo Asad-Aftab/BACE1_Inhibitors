{
 "cells": [
  {
   "cell_type": "markdown",
   "id": "764674a6",
   "metadata": {},
   "source": [
    "# Importing Libraries and Algorithms"
   ]
  },
  {
   "cell_type": "code",
   "execution_count": 1,
   "id": "b43db21f",
   "metadata": {},
   "outputs": [],
   "source": [
    "import pandas as pd\n",
    "import numpy as np\n",
    "import seaborn as sns\n",
    "import matplotlib.pyplot as plt\n",
    "from sklearn import datasets\n",
    "from sklearn.preprocessing import StandardScaler \n",
    "from sklearn.metrics import accuracy_score, confusion_matrix, f1_score\n",
    "from sklearn.linear_model import LogisticRegression\n",
    "from sklearn.neighbors import KNeighborsClassifier\n",
    "from sklearn.naive_bayes import GaussianNB, BernoulliNB\n",
    "from sklearn.ensemble import RandomForestClassifier  \n",
    "from sklearn.svm import SVC\n",
    "from sklearn.model_selection import GridSearchCV, train_test_split\n",
    "from sklearn.decomposition import PCA\n",
    "from joblib import dump, load\n",
    "from scipy import special\n",
    "np.random.seed(1234)"
   ]
  },
  {
   "cell_type": "markdown",
   "id": "8e9d8817",
   "metadata": {},
   "source": [
    "## Loading Dataset"
   ]
  },
  {
   "cell_type": "code",
   "execution_count": 2,
   "id": "42a1dbef",
   "metadata": {},
   "outputs": [],
   "source": [
    "df = pd.read_csv('dataset.csv')"
   ]
  },
  {
   "cell_type": "markdown",
   "id": "d74e4aa9",
   "metadata": {},
   "source": [
    "## Removing duplicate columns from dataset"
   ]
  },
  {
   "cell_type": "code",
   "execution_count": 3,
   "id": "e488c5dc",
   "metadata": {},
   "outputs": [],
   "source": [
    "def remove_same_value_features(df):\n",
    "    return [e for e in df.columns if df[e].nunique() == 1]"
   ]
  },
  {
   "cell_type": "code",
   "execution_count": 4,
   "id": "52bf095f",
   "metadata": {},
   "outputs": [],
   "source": [
    "drop_col = remove_same_value_features(df)"
   ]
  },
  {
   "cell_type": "code",
   "execution_count": 5,
   "id": "a90e50c8",
   "metadata": {},
   "outputs": [
    {
     "data": {
      "text/plain": [
       "Bit2      6920\n",
       "Bit3      6920\n",
       "Bit4      6920\n",
       "Bit7      6920\n",
       "Bit11     6920\n",
       "          ... \n",
       "Bit862    6920\n",
       "Bit864    6920\n",
       "Bit867    6920\n",
       "Bit869    6920\n",
       "Bit876    6920\n",
       "Length: 622, dtype: int64"
      ]
     },
     "execution_count": 5,
     "metadata": {},
     "output_type": "execute_result"
    }
   ],
   "source": [
    "new_df_columns = [e for e in df.columns if e not in drop_col]\n",
    "new_df = df[new_df_columns]\n",
    "new_df.count()"
   ]
  },
  {
   "cell_type": "markdown",
   "id": "9bb35c05",
   "metadata": {},
   "source": [
    "## Creating new .csv file without duplicate columns"
   ]
  },
  {
   "cell_type": "code",
   "execution_count": 6,
   "id": "c18c2ec4",
   "metadata": {},
   "outputs": [],
   "source": [
    "new_df.to_csv(\"dataset_unique_columns.csv\", index=False)\n",
    "df2= pd.read_csv('dataset_unique_columns.csv')"
   ]
  },
  {
   "cell_type": "markdown",
   "id": "d5116fe3",
   "metadata": {},
   "source": [
    "## Determining columns having high correlation with each other"
   ]
  },
  {
   "cell_type": "code",
   "execution_count": 7,
   "id": "2c2ec0cb",
   "metadata": {},
   "outputs": [
    {
     "data": {
      "text/html": [
       "<div>\n",
       "<style scoped>\n",
       "    .dataframe tbody tr th:only-of-type {\n",
       "        vertical-align: middle;\n",
       "    }\n",
       "\n",
       "    .dataframe tbody tr th {\n",
       "        vertical-align: top;\n",
       "    }\n",
       "\n",
       "    .dataframe thead th {\n",
       "        text-align: right;\n",
       "    }\n",
       "</style>\n",
       "<table border=\"1\" class=\"dataframe\">\n",
       "  <thead>\n",
       "    <tr style=\"text-align: right;\">\n",
       "      <th></th>\n",
       "      <th>Bit2</th>\n",
       "      <th>Bit3</th>\n",
       "      <th>Bit4</th>\n",
       "      <th>Bit7</th>\n",
       "      <th>Bit11</th>\n",
       "      <th>Bit12</th>\n",
       "      <th>Bit13</th>\n",
       "      <th>Bit14</th>\n",
       "      <th>Bit15</th>\n",
       "      <th>Bit16</th>\n",
       "      <th>...</th>\n",
       "      <th>Bit837</th>\n",
       "      <th>Bit840</th>\n",
       "      <th>Bit841</th>\n",
       "      <th>Bit843</th>\n",
       "      <th>Bit861</th>\n",
       "      <th>Bit862</th>\n",
       "      <th>Bit864</th>\n",
       "      <th>Bit867</th>\n",
       "      <th>Bit869</th>\n",
       "      <th>Bit876</th>\n",
       "    </tr>\n",
       "  </thead>\n",
       "  <tbody>\n",
       "    <tr>\n",
       "      <th>Bit2</th>\n",
       "      <td>1.000000</td>\n",
       "      <td>0.122590</td>\n",
       "      <td>0.022829</td>\n",
       "      <td>0.001228</td>\n",
       "      <td>0.288446</td>\n",
       "      <td>0.654227</td>\n",
       "      <td>0.223281</td>\n",
       "      <td>0.015555</td>\n",
       "      <td>0.052591</td>\n",
       "      <td>0.056526</td>\n",
       "      <td>...</td>\n",
       "      <td>0.002006</td>\n",
       "      <td>0.014466</td>\n",
       "      <td>0.022325</td>\n",
       "      <td>0.014629</td>\n",
       "      <td>0.003703</td>\n",
       "      <td>0.005173</td>\n",
       "      <td>0.014640</td>\n",
       "      <td>0.000501</td>\n",
       "      <td>0.001504</td>\n",
       "      <td>0.001877</td>\n",
       "    </tr>\n",
       "    <tr>\n",
       "      <th>Bit3</th>\n",
       "      <td>0.122590</td>\n",
       "      <td>1.000000</td>\n",
       "      <td>0.186223</td>\n",
       "      <td>0.006095</td>\n",
       "      <td>0.035361</td>\n",
       "      <td>0.093596</td>\n",
       "      <td>0.283534</td>\n",
       "      <td>0.126884</td>\n",
       "      <td>0.119492</td>\n",
       "      <td>0.101970</td>\n",
       "      <td>...</td>\n",
       "      <td>0.023124</td>\n",
       "      <td>0.114941</td>\n",
       "      <td>0.039635</td>\n",
       "      <td>0.116296</td>\n",
       "      <td>0.115777</td>\n",
       "      <td>0.042201</td>\n",
       "      <td>0.116386</td>\n",
       "      <td>0.004087</td>\n",
       "      <td>0.012269</td>\n",
       "      <td>0.015308</td>\n",
       "    </tr>\n",
       "    <tr>\n",
       "      <th>Bit4</th>\n",
       "      <td>0.022829</td>\n",
       "      <td>0.186223</td>\n",
       "      <td>1.000000</td>\n",
       "      <td>0.030476</td>\n",
       "      <td>0.006585</td>\n",
       "      <td>0.017430</td>\n",
       "      <td>0.102244</td>\n",
       "      <td>0.621675</td>\n",
       "      <td>0.060524</td>\n",
       "      <td>0.069443</td>\n",
       "      <td>...</td>\n",
       "      <td>0.009337</td>\n",
       "      <td>0.042850</td>\n",
       "      <td>0.048094</td>\n",
       "      <td>0.041885</td>\n",
       "      <td>0.034575</td>\n",
       "      <td>0.053960</td>\n",
       "      <td>0.044308</td>\n",
       "      <td>0.006585</td>\n",
       "      <td>0.008784</td>\n",
       "      <td>0.024662</td>\n",
       "    </tr>\n",
       "    <tr>\n",
       "      <th>Bit7</th>\n",
       "      <td>0.001228</td>\n",
       "      <td>0.006095</td>\n",
       "      <td>0.030476</td>\n",
       "      <td>1.000000</td>\n",
       "      <td>0.000354</td>\n",
       "      <td>0.000937</td>\n",
       "      <td>0.021720</td>\n",
       "      <td>0.010994</td>\n",
       "      <td>0.005275</td>\n",
       "      <td>0.016712</td>\n",
       "      <td>...</td>\n",
       "      <td>0.001418</td>\n",
       "      <td>0.069025</td>\n",
       "      <td>0.003761</td>\n",
       "      <td>0.068218</td>\n",
       "      <td>0.067641</td>\n",
       "      <td>0.003657</td>\n",
       "      <td>0.068165</td>\n",
       "      <td>0.000354</td>\n",
       "      <td>0.001063</td>\n",
       "      <td>0.001326</td>\n",
       "    </tr>\n",
       "    <tr>\n",
       "      <th>Bit11</th>\n",
       "      <td>0.288446</td>\n",
       "      <td>0.035361</td>\n",
       "      <td>0.006585</td>\n",
       "      <td>0.000354</td>\n",
       "      <td>1.000000</td>\n",
       "      <td>0.377801</td>\n",
       "      <td>0.064404</td>\n",
       "      <td>0.004487</td>\n",
       "      <td>0.002153</td>\n",
       "      <td>0.054243</td>\n",
       "      <td>...</td>\n",
       "      <td>0.000579</td>\n",
       "      <td>0.004173</td>\n",
       "      <td>0.001535</td>\n",
       "      <td>0.004220</td>\n",
       "      <td>0.004254</td>\n",
       "      <td>0.001492</td>\n",
       "      <td>0.004223</td>\n",
       "      <td>0.000145</td>\n",
       "      <td>0.000434</td>\n",
       "      <td>0.000541</td>\n",
       "    </tr>\n",
       "  </tbody>\n",
       "</table>\n",
       "<p>5 rows × 622 columns</p>\n",
       "</div>"
      ],
      "text/plain": [
       "           Bit2      Bit3      Bit4      Bit7     Bit11     Bit12     Bit13  \\\n",
       "Bit2   1.000000  0.122590  0.022829  0.001228  0.288446  0.654227  0.223281   \n",
       "Bit3   0.122590  1.000000  0.186223  0.006095  0.035361  0.093596  0.283534   \n",
       "Bit4   0.022829  0.186223  1.000000  0.030476  0.006585  0.017430  0.102244   \n",
       "Bit7   0.001228  0.006095  0.030476  1.000000  0.000354  0.000937  0.021720   \n",
       "Bit11  0.288446  0.035361  0.006585  0.000354  1.000000  0.377801  0.064404   \n",
       "\n",
       "          Bit14     Bit15     Bit16  ...    Bit837    Bit840    Bit841  \\\n",
       "Bit2   0.015555  0.052591  0.056526  ...  0.002006  0.014466  0.022325   \n",
       "Bit3   0.126884  0.119492  0.101970  ...  0.023124  0.114941  0.039635   \n",
       "Bit4   0.621675  0.060524  0.069443  ...  0.009337  0.042850  0.048094   \n",
       "Bit7   0.010994  0.005275  0.016712  ...  0.001418  0.069025  0.003761   \n",
       "Bit11  0.004487  0.002153  0.054243  ...  0.000579  0.004173  0.001535   \n",
       "\n",
       "         Bit843    Bit861    Bit862    Bit864    Bit867    Bit869    Bit876  \n",
       "Bit2   0.014629  0.003703  0.005173  0.014640  0.000501  0.001504  0.001877  \n",
       "Bit3   0.116296  0.115777  0.042201  0.116386  0.004087  0.012269  0.015308  \n",
       "Bit4   0.041885  0.034575  0.053960  0.044308  0.006585  0.008784  0.024662  \n",
       "Bit7   0.068218  0.067641  0.003657  0.068165  0.000354  0.001063  0.001326  \n",
       "Bit11  0.004220  0.004254  0.001492  0.004223  0.000145  0.000434  0.000541  \n",
       "\n",
       "[5 rows x 622 columns]"
      ]
     },
     "execution_count": 7,
     "metadata": {},
     "output_type": "execute_result"
    }
   ],
   "source": [
    "cor_matrix = df2.corr().abs()\n",
    "cor_matrix.head()"
   ]
  },
  {
   "cell_type": "code",
   "execution_count": 8,
   "id": "f6bcebe3",
   "metadata": {},
   "outputs": [
    {
     "name": "stderr",
     "output_type": "stream",
     "text": [
      "C:\\Users\\asada\\AppData\\Local\\Temp\\ipykernel_13272\\918335127.py:1: DeprecationWarning: `np.bool` is a deprecated alias for the builtin `bool`. To silence this warning, use `bool` by itself. Doing this will not modify any behavior and is safe. If you specifically wanted the numpy scalar type, use `np.bool_` here.\n",
      "Deprecated in NumPy 1.20; for more details and guidance: https://numpy.org/devdocs/release/1.20.0-notes.html#deprecations\n",
      "  upper_tri = cor_matrix.where(np.triu(np.ones(cor_matrix.shape),k=1).astype(np.bool))\n"
     ]
    },
    {
     "data": {
      "text/html": [
       "<div>\n",
       "<style scoped>\n",
       "    .dataframe tbody tr th:only-of-type {\n",
       "        vertical-align: middle;\n",
       "    }\n",
       "\n",
       "    .dataframe tbody tr th {\n",
       "        vertical-align: top;\n",
       "    }\n",
       "\n",
       "    .dataframe thead th {\n",
       "        text-align: right;\n",
       "    }\n",
       "</style>\n",
       "<table border=\"1\" class=\"dataframe\">\n",
       "  <thead>\n",
       "    <tr style=\"text-align: right;\">\n",
       "      <th></th>\n",
       "      <th>Bit2</th>\n",
       "      <th>Bit3</th>\n",
       "      <th>Bit4</th>\n",
       "      <th>Bit7</th>\n",
       "      <th>Bit11</th>\n",
       "      <th>Bit12</th>\n",
       "      <th>Bit13</th>\n",
       "      <th>Bit14</th>\n",
       "      <th>Bit15</th>\n",
       "      <th>Bit16</th>\n",
       "      <th>...</th>\n",
       "      <th>Bit837</th>\n",
       "      <th>Bit840</th>\n",
       "      <th>Bit841</th>\n",
       "      <th>Bit843</th>\n",
       "      <th>Bit861</th>\n",
       "      <th>Bit862</th>\n",
       "      <th>Bit864</th>\n",
       "      <th>Bit867</th>\n",
       "      <th>Bit869</th>\n",
       "      <th>Bit876</th>\n",
       "    </tr>\n",
       "  </thead>\n",
       "  <tbody>\n",
       "    <tr>\n",
       "      <th>Bit2</th>\n",
       "      <td>NaN</td>\n",
       "      <td>0.12259</td>\n",
       "      <td>0.022829</td>\n",
       "      <td>0.001228</td>\n",
       "      <td>0.288446</td>\n",
       "      <td>0.654227</td>\n",
       "      <td>0.223281</td>\n",
       "      <td>0.015555</td>\n",
       "      <td>0.052591</td>\n",
       "      <td>0.056526</td>\n",
       "      <td>...</td>\n",
       "      <td>0.002006</td>\n",
       "      <td>0.014466</td>\n",
       "      <td>0.022325</td>\n",
       "      <td>0.014629</td>\n",
       "      <td>0.003703</td>\n",
       "      <td>0.005173</td>\n",
       "      <td>0.014640</td>\n",
       "      <td>0.000501</td>\n",
       "      <td>0.001504</td>\n",
       "      <td>0.001877</td>\n",
       "    </tr>\n",
       "    <tr>\n",
       "      <th>Bit3</th>\n",
       "      <td>NaN</td>\n",
       "      <td>NaN</td>\n",
       "      <td>0.186223</td>\n",
       "      <td>0.006095</td>\n",
       "      <td>0.035361</td>\n",
       "      <td>0.093596</td>\n",
       "      <td>0.283534</td>\n",
       "      <td>0.126884</td>\n",
       "      <td>0.119492</td>\n",
       "      <td>0.101970</td>\n",
       "      <td>...</td>\n",
       "      <td>0.023124</td>\n",
       "      <td>0.114941</td>\n",
       "      <td>0.039635</td>\n",
       "      <td>0.116296</td>\n",
       "      <td>0.115777</td>\n",
       "      <td>0.042201</td>\n",
       "      <td>0.116386</td>\n",
       "      <td>0.004087</td>\n",
       "      <td>0.012269</td>\n",
       "      <td>0.015308</td>\n",
       "    </tr>\n",
       "    <tr>\n",
       "      <th>Bit4</th>\n",
       "      <td>NaN</td>\n",
       "      <td>NaN</td>\n",
       "      <td>NaN</td>\n",
       "      <td>0.030476</td>\n",
       "      <td>0.006585</td>\n",
       "      <td>0.017430</td>\n",
       "      <td>0.102244</td>\n",
       "      <td>0.621675</td>\n",
       "      <td>0.060524</td>\n",
       "      <td>0.069443</td>\n",
       "      <td>...</td>\n",
       "      <td>0.009337</td>\n",
       "      <td>0.042850</td>\n",
       "      <td>0.048094</td>\n",
       "      <td>0.041885</td>\n",
       "      <td>0.034575</td>\n",
       "      <td>0.053960</td>\n",
       "      <td>0.044308</td>\n",
       "      <td>0.006585</td>\n",
       "      <td>0.008784</td>\n",
       "      <td>0.024662</td>\n",
       "    </tr>\n",
       "    <tr>\n",
       "      <th>Bit7</th>\n",
       "      <td>NaN</td>\n",
       "      <td>NaN</td>\n",
       "      <td>NaN</td>\n",
       "      <td>NaN</td>\n",
       "      <td>0.000354</td>\n",
       "      <td>0.000937</td>\n",
       "      <td>0.021720</td>\n",
       "      <td>0.010994</td>\n",
       "      <td>0.005275</td>\n",
       "      <td>0.016712</td>\n",
       "      <td>...</td>\n",
       "      <td>0.001418</td>\n",
       "      <td>0.069025</td>\n",
       "      <td>0.003761</td>\n",
       "      <td>0.068218</td>\n",
       "      <td>0.067641</td>\n",
       "      <td>0.003657</td>\n",
       "      <td>0.068165</td>\n",
       "      <td>0.000354</td>\n",
       "      <td>0.001063</td>\n",
       "      <td>0.001326</td>\n",
       "    </tr>\n",
       "    <tr>\n",
       "      <th>Bit11</th>\n",
       "      <td>NaN</td>\n",
       "      <td>NaN</td>\n",
       "      <td>NaN</td>\n",
       "      <td>NaN</td>\n",
       "      <td>NaN</td>\n",
       "      <td>0.377801</td>\n",
       "      <td>0.064404</td>\n",
       "      <td>0.004487</td>\n",
       "      <td>0.002153</td>\n",
       "      <td>0.054243</td>\n",
       "      <td>...</td>\n",
       "      <td>0.000579</td>\n",
       "      <td>0.004173</td>\n",
       "      <td>0.001535</td>\n",
       "      <td>0.004220</td>\n",
       "      <td>0.004254</td>\n",
       "      <td>0.001492</td>\n",
       "      <td>0.004223</td>\n",
       "      <td>0.000145</td>\n",
       "      <td>0.000434</td>\n",
       "      <td>0.000541</td>\n",
       "    </tr>\n",
       "    <tr>\n",
       "      <th>...</th>\n",
       "      <td>...</td>\n",
       "      <td>...</td>\n",
       "      <td>...</td>\n",
       "      <td>...</td>\n",
       "      <td>...</td>\n",
       "      <td>...</td>\n",
       "      <td>...</td>\n",
       "      <td>...</td>\n",
       "      <td>...</td>\n",
       "      <td>...</td>\n",
       "      <td>...</td>\n",
       "      <td>...</td>\n",
       "      <td>...</td>\n",
       "      <td>...</td>\n",
       "      <td>...</td>\n",
       "      <td>...</td>\n",
       "      <td>...</td>\n",
       "      <td>...</td>\n",
       "      <td>...</td>\n",
       "      <td>...</td>\n",
       "      <td>...</td>\n",
       "    </tr>\n",
       "    <tr>\n",
       "      <th>Bit862</th>\n",
       "      <td>NaN</td>\n",
       "      <td>NaN</td>\n",
       "      <td>NaN</td>\n",
       "      <td>NaN</td>\n",
       "      <td>NaN</td>\n",
       "      <td>NaN</td>\n",
       "      <td>NaN</td>\n",
       "      <td>NaN</td>\n",
       "      <td>NaN</td>\n",
       "      <td>NaN</td>\n",
       "      <td>...</td>\n",
       "      <td>NaN</td>\n",
       "      <td>NaN</td>\n",
       "      <td>NaN</td>\n",
       "      <td>NaN</td>\n",
       "      <td>NaN</td>\n",
       "      <td>NaN</td>\n",
       "      <td>0.345821</td>\n",
       "      <td>0.096854</td>\n",
       "      <td>0.004479</td>\n",
       "      <td>0.005589</td>\n",
       "    </tr>\n",
       "    <tr>\n",
       "      <th>Bit864</th>\n",
       "      <td>NaN</td>\n",
       "      <td>NaN</td>\n",
       "      <td>NaN</td>\n",
       "      <td>NaN</td>\n",
       "      <td>NaN</td>\n",
       "      <td>NaN</td>\n",
       "      <td>NaN</td>\n",
       "      <td>NaN</td>\n",
       "      <td>NaN</td>\n",
       "      <td>NaN</td>\n",
       "      <td>...</td>\n",
       "      <td>NaN</td>\n",
       "      <td>NaN</td>\n",
       "      <td>NaN</td>\n",
       "      <td>NaN</td>\n",
       "      <td>NaN</td>\n",
       "      <td>NaN</td>\n",
       "      <td>NaN</td>\n",
       "      <td>0.034226</td>\n",
       "      <td>0.077091</td>\n",
       "      <td>0.128184</td>\n",
       "    </tr>\n",
       "    <tr>\n",
       "      <th>Bit867</th>\n",
       "      <td>NaN</td>\n",
       "      <td>NaN</td>\n",
       "      <td>NaN</td>\n",
       "      <td>NaN</td>\n",
       "      <td>NaN</td>\n",
       "      <td>NaN</td>\n",
       "      <td>NaN</td>\n",
       "      <td>NaN</td>\n",
       "      <td>NaN</td>\n",
       "      <td>NaN</td>\n",
       "      <td>...</td>\n",
       "      <td>NaN</td>\n",
       "      <td>NaN</td>\n",
       "      <td>NaN</td>\n",
       "      <td>NaN</td>\n",
       "      <td>NaN</td>\n",
       "      <td>NaN</td>\n",
       "      <td>NaN</td>\n",
       "      <td>NaN</td>\n",
       "      <td>0.000434</td>\n",
       "      <td>0.000541</td>\n",
       "    </tr>\n",
       "    <tr>\n",
       "      <th>Bit869</th>\n",
       "      <td>NaN</td>\n",
       "      <td>NaN</td>\n",
       "      <td>NaN</td>\n",
       "      <td>NaN</td>\n",
       "      <td>NaN</td>\n",
       "      <td>NaN</td>\n",
       "      <td>NaN</td>\n",
       "      <td>NaN</td>\n",
       "      <td>NaN</td>\n",
       "      <td>NaN</td>\n",
       "      <td>...</td>\n",
       "      <td>NaN</td>\n",
       "      <td>NaN</td>\n",
       "      <td>NaN</td>\n",
       "      <td>NaN</td>\n",
       "      <td>NaN</td>\n",
       "      <td>NaN</td>\n",
       "      <td>NaN</td>\n",
       "      <td>NaN</td>\n",
       "      <td>NaN</td>\n",
       "      <td>0.001625</td>\n",
       "    </tr>\n",
       "    <tr>\n",
       "      <th>Bit876</th>\n",
       "      <td>NaN</td>\n",
       "      <td>NaN</td>\n",
       "      <td>NaN</td>\n",
       "      <td>NaN</td>\n",
       "      <td>NaN</td>\n",
       "      <td>NaN</td>\n",
       "      <td>NaN</td>\n",
       "      <td>NaN</td>\n",
       "      <td>NaN</td>\n",
       "      <td>NaN</td>\n",
       "      <td>...</td>\n",
       "      <td>NaN</td>\n",
       "      <td>NaN</td>\n",
       "      <td>NaN</td>\n",
       "      <td>NaN</td>\n",
       "      <td>NaN</td>\n",
       "      <td>NaN</td>\n",
       "      <td>NaN</td>\n",
       "      <td>NaN</td>\n",
       "      <td>NaN</td>\n",
       "      <td>NaN</td>\n",
       "    </tr>\n",
       "  </tbody>\n",
       "</table>\n",
       "<p>622 rows × 622 columns</p>\n",
       "</div>"
      ],
      "text/plain": [
       "        Bit2     Bit3      Bit4      Bit7     Bit11     Bit12     Bit13  \\\n",
       "Bit2     NaN  0.12259  0.022829  0.001228  0.288446  0.654227  0.223281   \n",
       "Bit3     NaN      NaN  0.186223  0.006095  0.035361  0.093596  0.283534   \n",
       "Bit4     NaN      NaN       NaN  0.030476  0.006585  0.017430  0.102244   \n",
       "Bit7     NaN      NaN       NaN       NaN  0.000354  0.000937  0.021720   \n",
       "Bit11    NaN      NaN       NaN       NaN       NaN  0.377801  0.064404   \n",
       "...      ...      ...       ...       ...       ...       ...       ...   \n",
       "Bit862   NaN      NaN       NaN       NaN       NaN       NaN       NaN   \n",
       "Bit864   NaN      NaN       NaN       NaN       NaN       NaN       NaN   \n",
       "Bit867   NaN      NaN       NaN       NaN       NaN       NaN       NaN   \n",
       "Bit869   NaN      NaN       NaN       NaN       NaN       NaN       NaN   \n",
       "Bit876   NaN      NaN       NaN       NaN       NaN       NaN       NaN   \n",
       "\n",
       "           Bit14     Bit15     Bit16  ...    Bit837    Bit840    Bit841  \\\n",
       "Bit2    0.015555  0.052591  0.056526  ...  0.002006  0.014466  0.022325   \n",
       "Bit3    0.126884  0.119492  0.101970  ...  0.023124  0.114941  0.039635   \n",
       "Bit4    0.621675  0.060524  0.069443  ...  0.009337  0.042850  0.048094   \n",
       "Bit7    0.010994  0.005275  0.016712  ...  0.001418  0.069025  0.003761   \n",
       "Bit11   0.004487  0.002153  0.054243  ...  0.000579  0.004173  0.001535   \n",
       "...          ...       ...       ...  ...       ...       ...       ...   \n",
       "Bit862       NaN       NaN       NaN  ...       NaN       NaN       NaN   \n",
       "Bit864       NaN       NaN       NaN  ...       NaN       NaN       NaN   \n",
       "Bit867       NaN       NaN       NaN  ...       NaN       NaN       NaN   \n",
       "Bit869       NaN       NaN       NaN  ...       NaN       NaN       NaN   \n",
       "Bit876       NaN       NaN       NaN  ...       NaN       NaN       NaN   \n",
       "\n",
       "          Bit843    Bit861    Bit862    Bit864    Bit867    Bit869    Bit876  \n",
       "Bit2    0.014629  0.003703  0.005173  0.014640  0.000501  0.001504  0.001877  \n",
       "Bit3    0.116296  0.115777  0.042201  0.116386  0.004087  0.012269  0.015308  \n",
       "Bit4    0.041885  0.034575  0.053960  0.044308  0.006585  0.008784  0.024662  \n",
       "Bit7    0.068218  0.067641  0.003657  0.068165  0.000354  0.001063  0.001326  \n",
       "Bit11   0.004220  0.004254  0.001492  0.004223  0.000145  0.000434  0.000541  \n",
       "...          ...       ...       ...       ...       ...       ...       ...  \n",
       "Bit862       NaN       NaN       NaN  0.345821  0.096854  0.004479  0.005589  \n",
       "Bit864       NaN       NaN       NaN       NaN  0.034226  0.077091  0.128184  \n",
       "Bit867       NaN       NaN       NaN       NaN       NaN  0.000434  0.000541  \n",
       "Bit869       NaN       NaN       NaN       NaN       NaN       NaN  0.001625  \n",
       "Bit876       NaN       NaN       NaN       NaN       NaN       NaN       NaN  \n",
       "\n",
       "[622 rows x 622 columns]"
      ]
     },
     "execution_count": 8,
     "metadata": {},
     "output_type": "execute_result"
    }
   ],
   "source": [
    "upper_tri = cor_matrix.where(np.triu(np.ones(cor_matrix.shape),k=1).astype(np.bool))\n",
    "upper_tri"
   ]
  },
  {
   "cell_type": "markdown",
   "id": "8d120d48",
   "metadata": {
    "tags": []
   },
   "source": [
    "## Removing columns with high correlation"
   ]
  },
  {
   "cell_type": "code",
   "execution_count": 9,
   "id": "8dd12874",
   "metadata": {},
   "outputs": [
    {
     "data": {
      "text/html": [
       "<div>\n",
       "<style scoped>\n",
       "    .dataframe tbody tr th:only-of-type {\n",
       "        vertical-align: middle;\n",
       "    }\n",
       "\n",
       "    .dataframe tbody tr th {\n",
       "        vertical-align: top;\n",
       "    }\n",
       "\n",
       "    .dataframe thead th {\n",
       "        text-align: right;\n",
       "    }\n",
       "</style>\n",
       "<table border=\"1\" class=\"dataframe\">\n",
       "  <thead>\n",
       "    <tr style=\"text-align: right;\">\n",
       "      <th></th>\n",
       "      <th>Bit2</th>\n",
       "      <th>Bit3</th>\n",
       "      <th>Bit4</th>\n",
       "      <th>Bit7</th>\n",
       "      <th>Bit11</th>\n",
       "      <th>Bit12</th>\n",
       "      <th>Bit13</th>\n",
       "      <th>Bit14</th>\n",
       "      <th>Bit15</th>\n",
       "      <th>Bit16</th>\n",
       "      <th>...</th>\n",
       "      <th>Bit772</th>\n",
       "      <th>Bit773</th>\n",
       "      <th>Bit778</th>\n",
       "      <th>Bit783</th>\n",
       "      <th>Bit792</th>\n",
       "      <th>Bit822</th>\n",
       "      <th>Bit841</th>\n",
       "      <th>Bit867</th>\n",
       "      <th>Bit869</th>\n",
       "      <th>Bit876</th>\n",
       "    </tr>\n",
       "  </thead>\n",
       "  <tbody>\n",
       "    <tr>\n",
       "      <th>0</th>\n",
       "      <td>1</td>\n",
       "      <td>1</td>\n",
       "      <td>0</td>\n",
       "      <td>0</td>\n",
       "      <td>1</td>\n",
       "      <td>1</td>\n",
       "      <td>1</td>\n",
       "      <td>0</td>\n",
       "      <td>1</td>\n",
       "      <td>1</td>\n",
       "      <td>...</td>\n",
       "      <td>0</td>\n",
       "      <td>0</td>\n",
       "      <td>0</td>\n",
       "      <td>0</td>\n",
       "      <td>0</td>\n",
       "      <td>0</td>\n",
       "      <td>0</td>\n",
       "      <td>0</td>\n",
       "      <td>0</td>\n",
       "      <td>0</td>\n",
       "    </tr>\n",
       "    <tr>\n",
       "      <th>1</th>\n",
       "      <td>1</td>\n",
       "      <td>1</td>\n",
       "      <td>0</td>\n",
       "      <td>0</td>\n",
       "      <td>1</td>\n",
       "      <td>1</td>\n",
       "      <td>1</td>\n",
       "      <td>0</td>\n",
       "      <td>1</td>\n",
       "      <td>1</td>\n",
       "      <td>...</td>\n",
       "      <td>0</td>\n",
       "      <td>0</td>\n",
       "      <td>0</td>\n",
       "      <td>0</td>\n",
       "      <td>0</td>\n",
       "      <td>0</td>\n",
       "      <td>0</td>\n",
       "      <td>0</td>\n",
       "      <td>0</td>\n",
       "      <td>0</td>\n",
       "    </tr>\n",
       "    <tr>\n",
       "      <th>2</th>\n",
       "      <td>1</td>\n",
       "      <td>1</td>\n",
       "      <td>1</td>\n",
       "      <td>0</td>\n",
       "      <td>1</td>\n",
       "      <td>1</td>\n",
       "      <td>1</td>\n",
       "      <td>1</td>\n",
       "      <td>1</td>\n",
       "      <td>1</td>\n",
       "      <td>...</td>\n",
       "      <td>0</td>\n",
       "      <td>0</td>\n",
       "      <td>0</td>\n",
       "      <td>0</td>\n",
       "      <td>0</td>\n",
       "      <td>0</td>\n",
       "      <td>0</td>\n",
       "      <td>0</td>\n",
       "      <td>0</td>\n",
       "      <td>0</td>\n",
       "    </tr>\n",
       "    <tr>\n",
       "      <th>3</th>\n",
       "      <td>1</td>\n",
       "      <td>1</td>\n",
       "      <td>0</td>\n",
       "      <td>0</td>\n",
       "      <td>1</td>\n",
       "      <td>1</td>\n",
       "      <td>1</td>\n",
       "      <td>0</td>\n",
       "      <td>1</td>\n",
       "      <td>1</td>\n",
       "      <td>...</td>\n",
       "      <td>0</td>\n",
       "      <td>0</td>\n",
       "      <td>0</td>\n",
       "      <td>0</td>\n",
       "      <td>0</td>\n",
       "      <td>0</td>\n",
       "      <td>0</td>\n",
       "      <td>0</td>\n",
       "      <td>0</td>\n",
       "      <td>0</td>\n",
       "    </tr>\n",
       "    <tr>\n",
       "      <th>4</th>\n",
       "      <td>1</td>\n",
       "      <td>1</td>\n",
       "      <td>0</td>\n",
       "      <td>0</td>\n",
       "      <td>1</td>\n",
       "      <td>1</td>\n",
       "      <td>1</td>\n",
       "      <td>0</td>\n",
       "      <td>1</td>\n",
       "      <td>1</td>\n",
       "      <td>...</td>\n",
       "      <td>0</td>\n",
       "      <td>0</td>\n",
       "      <td>0</td>\n",
       "      <td>0</td>\n",
       "      <td>0</td>\n",
       "      <td>0</td>\n",
       "      <td>0</td>\n",
       "      <td>0</td>\n",
       "      <td>0</td>\n",
       "      <td>0</td>\n",
       "    </tr>\n",
       "    <tr>\n",
       "      <th>...</th>\n",
       "      <td>...</td>\n",
       "      <td>...</td>\n",
       "      <td>...</td>\n",
       "      <td>...</td>\n",
       "      <td>...</td>\n",
       "      <td>...</td>\n",
       "      <td>...</td>\n",
       "      <td>...</td>\n",
       "      <td>...</td>\n",
       "      <td>...</td>\n",
       "      <td>...</td>\n",
       "      <td>...</td>\n",
       "      <td>...</td>\n",
       "      <td>...</td>\n",
       "      <td>...</td>\n",
       "      <td>...</td>\n",
       "      <td>...</td>\n",
       "      <td>...</td>\n",
       "      <td>...</td>\n",
       "      <td>...</td>\n",
       "      <td>...</td>\n",
       "    </tr>\n",
       "    <tr>\n",
       "      <th>6915</th>\n",
       "      <td>1</td>\n",
       "      <td>0</td>\n",
       "      <td>0</td>\n",
       "      <td>0</td>\n",
       "      <td>1</td>\n",
       "      <td>1</td>\n",
       "      <td>1</td>\n",
       "      <td>0</td>\n",
       "      <td>1</td>\n",
       "      <td>1</td>\n",
       "      <td>...</td>\n",
       "      <td>0</td>\n",
       "      <td>0</td>\n",
       "      <td>0</td>\n",
       "      <td>0</td>\n",
       "      <td>0</td>\n",
       "      <td>0</td>\n",
       "      <td>0</td>\n",
       "      <td>0</td>\n",
       "      <td>0</td>\n",
       "      <td>0</td>\n",
       "    </tr>\n",
       "    <tr>\n",
       "      <th>6916</th>\n",
       "      <td>1</td>\n",
       "      <td>0</td>\n",
       "      <td>0</td>\n",
       "      <td>0</td>\n",
       "      <td>1</td>\n",
       "      <td>1</td>\n",
       "      <td>1</td>\n",
       "      <td>0</td>\n",
       "      <td>1</td>\n",
       "      <td>1</td>\n",
       "      <td>...</td>\n",
       "      <td>0</td>\n",
       "      <td>0</td>\n",
       "      <td>0</td>\n",
       "      <td>0</td>\n",
       "      <td>0</td>\n",
       "      <td>0</td>\n",
       "      <td>0</td>\n",
       "      <td>0</td>\n",
       "      <td>0</td>\n",
       "      <td>0</td>\n",
       "    </tr>\n",
       "    <tr>\n",
       "      <th>6917</th>\n",
       "      <td>1</td>\n",
       "      <td>1</td>\n",
       "      <td>0</td>\n",
       "      <td>0</td>\n",
       "      <td>1</td>\n",
       "      <td>1</td>\n",
       "      <td>1</td>\n",
       "      <td>0</td>\n",
       "      <td>1</td>\n",
       "      <td>1</td>\n",
       "      <td>...</td>\n",
       "      <td>0</td>\n",
       "      <td>0</td>\n",
       "      <td>0</td>\n",
       "      <td>0</td>\n",
       "      <td>0</td>\n",
       "      <td>0</td>\n",
       "      <td>0</td>\n",
       "      <td>0</td>\n",
       "      <td>0</td>\n",
       "      <td>0</td>\n",
       "    </tr>\n",
       "    <tr>\n",
       "      <th>6918</th>\n",
       "      <td>1</td>\n",
       "      <td>1</td>\n",
       "      <td>0</td>\n",
       "      <td>0</td>\n",
       "      <td>1</td>\n",
       "      <td>1</td>\n",
       "      <td>1</td>\n",
       "      <td>0</td>\n",
       "      <td>1</td>\n",
       "      <td>1</td>\n",
       "      <td>...</td>\n",
       "      <td>0</td>\n",
       "      <td>0</td>\n",
       "      <td>0</td>\n",
       "      <td>0</td>\n",
       "      <td>0</td>\n",
       "      <td>0</td>\n",
       "      <td>0</td>\n",
       "      <td>0</td>\n",
       "      <td>0</td>\n",
       "      <td>0</td>\n",
       "    </tr>\n",
       "    <tr>\n",
       "      <th>6919</th>\n",
       "      <td>1</td>\n",
       "      <td>0</td>\n",
       "      <td>0</td>\n",
       "      <td>0</td>\n",
       "      <td>1</td>\n",
       "      <td>1</td>\n",
       "      <td>1</td>\n",
       "      <td>0</td>\n",
       "      <td>1</td>\n",
       "      <td>1</td>\n",
       "      <td>...</td>\n",
       "      <td>0</td>\n",
       "      <td>0</td>\n",
       "      <td>0</td>\n",
       "      <td>0</td>\n",
       "      <td>0</td>\n",
       "      <td>0</td>\n",
       "      <td>0</td>\n",
       "      <td>0</td>\n",
       "      <td>0</td>\n",
       "      <td>0</td>\n",
       "    </tr>\n",
       "  </tbody>\n",
       "</table>\n",
       "<p>6920 rows × 414 columns</p>\n",
       "</div>"
      ],
      "text/plain": [
       "      Bit2  Bit3  Bit4  Bit7  Bit11  Bit12  Bit13  Bit14  Bit15  Bit16  ...  \\\n",
       "0        1     1     0     0      1      1      1      0      1      1  ...   \n",
       "1        1     1     0     0      1      1      1      0      1      1  ...   \n",
       "2        1     1     1     0      1      1      1      1      1      1  ...   \n",
       "3        1     1     0     0      1      1      1      0      1      1  ...   \n",
       "4        1     1     0     0      1      1      1      0      1      1  ...   \n",
       "...    ...   ...   ...   ...    ...    ...    ...    ...    ...    ...  ...   \n",
       "6915     1     0     0     0      1      1      1      0      1      1  ...   \n",
       "6916     1     0     0     0      1      1      1      0      1      1  ...   \n",
       "6917     1     1     0     0      1      1      1      0      1      1  ...   \n",
       "6918     1     1     0     0      1      1      1      0      1      1  ...   \n",
       "6919     1     0     0     0      1      1      1      0      1      1  ...   \n",
       "\n",
       "      Bit772  Bit773  Bit778  Bit783  Bit792  Bit822  Bit841  Bit867  Bit869  \\\n",
       "0          0       0       0       0       0       0       0       0       0   \n",
       "1          0       0       0       0       0       0       0       0       0   \n",
       "2          0       0       0       0       0       0       0       0       0   \n",
       "3          0       0       0       0       0       0       0       0       0   \n",
       "4          0       0       0       0       0       0       0       0       0   \n",
       "...      ...     ...     ...     ...     ...     ...     ...     ...     ...   \n",
       "6915       0       0       0       0       0       0       0       0       0   \n",
       "6916       0       0       0       0       0       0       0       0       0   \n",
       "6917       0       0       0       0       0       0       0       0       0   \n",
       "6918       0       0       0       0       0       0       0       0       0   \n",
       "6919       0       0       0       0       0       0       0       0       0   \n",
       "\n",
       "      Bit876  \n",
       "0          0  \n",
       "1          0  \n",
       "2          0  \n",
       "3          0  \n",
       "4          0  \n",
       "...      ...  \n",
       "6915       0  \n",
       "6916       0  \n",
       "6917       0  \n",
       "6918       0  \n",
       "6919       0  \n",
       "\n",
       "[6920 rows x 414 columns]"
      ]
     },
     "execution_count": 9,
     "metadata": {},
     "output_type": "execute_result"
    }
   ],
   "source": [
    "to_drop = [column for column in upper_tri.columns if any(upper_tri[column] > 0.95)]\n",
    "df2.drop(df2[to_drop], axis=1)"
   ]
  },
  {
   "cell_type": "markdown",
   "id": "ad5f7b97",
   "metadata": {},
   "source": [
    "## Creating new .csv file"
   ]
  },
  {
   "cell_type": "code",
   "execution_count": 10,
   "id": "90df4f85",
   "metadata": {},
   "outputs": [],
   "source": [
    "new_df2 = df2.drop(df2[to_drop], axis=1)\n",
    "new_df2.to_csv(\"dataset_unrelated_features.csv\", index=False)"
   ]
  },
  {
   "cell_type": "markdown",
   "id": "21ca6c75",
   "metadata": {},
   "source": [
    "\n",
    "\n",
    "## Reading new Dataset and Labels"
   ]
  },
  {
   "cell_type": "code",
   "execution_count": 11,
   "id": "26d8064a",
   "metadata": {},
   "outputs": [],
   "source": [
    "X = pd.read_csv('dataset_unrelated_features.csv')\n",
    "y = pd.read_csv('label.csv')"
   ]
  },
  {
   "cell_type": "code",
   "execution_count": 12,
   "id": "f11b1783-8068-4be5-b03e-bcbdb36c66ba",
   "metadata": {},
   "outputs": [
    {
     "name": "stdout",
     "output_type": "stream",
     "text": [
      "Category\n",
      "0           2537\n",
      "1           2462\n",
      "2           1921\n",
      "dtype: int64\n"
     ]
    }
   ],
   "source": [
    "print(y.value_counts())"
   ]
  },
  {
   "cell_type": "markdown",
   "id": "1b3f3118",
   "metadata": {},
   "source": [
    "## Splitting the Data into Train, Validation & Test"
   ]
  },
  {
   "cell_type": "code",
   "execution_count": 13,
   "id": "7fdcdbdb-4af1-4edf-a9cb-b5b1ad602784",
   "metadata": {},
   "outputs": [],
   "source": [
    "X_train, X_pseudo_test, y_train, y_pseudo_test = train_test_split( X, y, train_size=0.8, stratify=y, random_state=42)\n",
    "X_val, X_test, y_val, y_test = train_test_split(X_pseudo_test, y_pseudo_test, test_size = 0.5,\\\n",
    "                                                stratify=y_pseudo_test, random_state=42) "
   ]
  },
  {
   "cell_type": "code",
   "execution_count": 14,
   "id": "7a9b8969",
   "metadata": {},
   "outputs": [
    {
     "name": "stdout",
     "output_type": "stream",
     "text": [
      "5536 692 692\n"
     ]
    }
   ],
   "source": [
    "print (len(X_train), len(X_test), len(X_val))"
   ]
  },
  {
   "cell_type": "code",
   "execution_count": 15,
   "id": "c06db0eb-b1d4-474e-82e9-36aecac228a0",
   "metadata": {},
   "outputs": [
    {
     "name": "stdout",
     "output_type": "stream",
     "text": [
      "Category\n",
      "0           2029\n",
      "1           1970\n",
      "2           1537\n",
      "dtype: int64 Category\n",
      "0           254\n",
      "1           246\n",
      "2           192\n",
      "dtype: int64 Category\n",
      "0           254\n",
      "1           246\n",
      "2           192\n",
      "dtype: int64\n"
     ]
    }
   ],
   "source": [
    "print(y_train.value_counts(), y_test.value_counts(), y_val.value_counts())"
   ]
  },
  {
   "cell_type": "markdown",
   "id": "4169dd20",
   "metadata": {},
   "source": [
    "## Implementing PCA"
   ]
  },
  {
   "cell_type": "code",
   "execution_count": 16,
   "id": "4d5cbe4a-4f49-42f6-933c-aee9582220be",
   "metadata": {},
   "outputs": [],
   "source": [
    "X_train['labels'] = 'Training_set'\n",
    "X_test['labels'] = 'Test_set'\n",
    "X_val['labels'] = 'Validation_set'"
   ]
  },
  {
   "cell_type": "code",
   "execution_count": 17,
   "id": "2be51a21-52ea-4bdd-b9d1-cf68b1a42389",
   "metadata": {},
   "outputs": [],
   "source": [
    "X = pd.concat([X_train, X_test, X_val],axis=0)"
   ]
  },
  {
   "cell_type": "code",
   "execution_count": 18,
   "id": "ed2adef6-9fd1-4cbc-8831-a2899107a6ed",
   "metadata": {},
   "outputs": [
    {
     "data": {
      "text/plain": [
       "Training_set      5536\n",
       "Test_set           692\n",
       "Validation_set     692\n",
       "Name: labels, dtype: int64"
      ]
     },
     "execution_count": 18,
     "metadata": {},
     "output_type": "execute_result"
    }
   ],
   "source": [
    "X['labels'].value_counts()"
   ]
  },
  {
   "cell_type": "code",
   "execution_count": 19,
   "id": "bf83e8a4-f881-4ef8-a22e-dcbea3c21b07",
   "metadata": {},
   "outputs": [],
   "source": [
    "X_scaled = StandardScaler().fit_transform(X.iloc[:,:-1])"
   ]
  },
  {
   "cell_type": "code",
   "execution_count": 20,
   "id": "8f3460e4-267a-4635-8a4c-eec95376a73b",
   "metadata": {},
   "outputs": [],
   "source": [
    "pca = PCA (n_components= 3)\n",
    "principalComponents = pca.fit_transform(X_scaled)"
   ]
  },
  {
   "cell_type": "code",
   "execution_count": 21,
   "id": "c5776385-e09a-4ba2-8c75-085eb6124df0",
   "metadata": {},
   "outputs": [],
   "source": [
    "principal_df = pd.DataFrame(data = principalComponents, columns = ['principal component 1', 'principal component 2',  'principal component 3'])"
   ]
  },
  {
   "cell_type": "code",
   "execution_count": 22,
   "id": "9c434dff-76af-48b8-8876-a08e121075eb",
   "metadata": {},
   "outputs": [
    {
     "data": {
      "text/html": [
       "<div>\n",
       "<style scoped>\n",
       "    .dataframe tbody tr th:only-of-type {\n",
       "        vertical-align: middle;\n",
       "    }\n",
       "\n",
       "    .dataframe tbody tr th {\n",
       "        vertical-align: top;\n",
       "    }\n",
       "\n",
       "    .dataframe thead th {\n",
       "        text-align: right;\n",
       "    }\n",
       "</style>\n",
       "<table border=\"1\" class=\"dataframe\">\n",
       "  <thead>\n",
       "    <tr style=\"text-align: right;\">\n",
       "      <th></th>\n",
       "      <th>principal component 1</th>\n",
       "      <th>principal component 2</th>\n",
       "      <th>principal component 3</th>\n",
       "    </tr>\n",
       "  </thead>\n",
       "  <tbody>\n",
       "    <tr>\n",
       "      <th>0</th>\n",
       "      <td>-6.324395</td>\n",
       "      <td>1.162851</td>\n",
       "      <td>-1.430456</td>\n",
       "    </tr>\n",
       "    <tr>\n",
       "      <th>1</th>\n",
       "      <td>-5.404943</td>\n",
       "      <td>-1.515546</td>\n",
       "      <td>-3.533579</td>\n",
       "    </tr>\n",
       "    <tr>\n",
       "      <th>2</th>\n",
       "      <td>-1.670122</td>\n",
       "      <td>-0.495078</td>\n",
       "      <td>1.101099</td>\n",
       "    </tr>\n",
       "    <tr>\n",
       "      <th>3</th>\n",
       "      <td>-2.418121</td>\n",
       "      <td>-2.007044</td>\n",
       "      <td>2.019142</td>\n",
       "    </tr>\n",
       "    <tr>\n",
       "      <th>4</th>\n",
       "      <td>-4.082405</td>\n",
       "      <td>-4.264301</td>\n",
       "      <td>1.382850</td>\n",
       "    </tr>\n",
       "  </tbody>\n",
       "</table>\n",
       "</div>"
      ],
      "text/plain": [
       "   principal component 1  principal component 2  principal component 3\n",
       "0              -6.324395               1.162851              -1.430456\n",
       "1              -5.404943              -1.515546              -3.533579\n",
       "2              -1.670122              -0.495078               1.101099\n",
       "3              -2.418121              -2.007044               2.019142\n",
       "4              -4.082405              -4.264301               1.382850"
      ]
     },
     "execution_count": 22,
     "metadata": {},
     "output_type": "execute_result"
    }
   ],
   "source": [
    "principal_df.head()"
   ]
  },
  {
   "cell_type": "code",
   "execution_count": 23,
   "id": "39f65e0b-8705-4d20-8e5b-dfb7a468fb7f",
   "metadata": {},
   "outputs": [
    {
     "data": {
      "text/plain": [
       "Training_set      5536\n",
       "Validation_set     692\n",
       "Test_set           692\n",
       "Name: labels, dtype: int64"
      ]
     },
     "execution_count": 23,
     "metadata": {},
     "output_type": "execute_result"
    }
   ],
   "source": [
    "principal_df['labels'] = X['labels']\n",
    "principal_df['labels'].value_counts()"
   ]
  },
  {
   "cell_type": "code",
   "execution_count": 24,
   "id": "6cc04886-20aa-41f9-9a63-74d628a2a88d",
   "metadata": {},
   "outputs": [
    {
     "name": "stdout",
     "output_type": "stream",
     "text": [
      "Explained variation per principal component: [0.06642299 0.04457234 0.04025903]\n"
     ]
    }
   ],
   "source": [
    "print('Explained variation per principal component: {}'.format(pca.explained_variance_ratio_))"
   ]
  },
  {
   "cell_type": "markdown",
   "id": "4750cdd9",
   "metadata": {},
   "source": [
    "## Plotting Train, Test & Validiation set"
   ]
  },
  {
   "cell_type": "code",
   "execution_count": 45,
   "id": "603e6ca3-05a0-4f77-842f-403c3fde908d",
   "metadata": {},
   "outputs": [
    {
     "data": {
      "image/png": "[encoded data removed]",
      "text/plain": [
       "<Figure size 2520x1296 with 1 Axes>"
      ]
     },
     "metadata": {
      "needs_background": "light"
     },
     "output_type": "display_data"
    }
   ],
   "source": [
    "fig = plt.figure()\n",
    "plt.rcParams['figure.figsize'] = (35,19)\n",
    "ax = fig.add_subplot(111, projection = '3d')\n",
    "plt.xlabel('Principal Component - 1',fontsize=15)\n",
    "plt.ylabel('Principal Component - 2',fontsize=15)\n",
    "ax.set_zlabel('Principal Component - 3',fontsize=15)\n",
    "targets = ['Training_set', 'Test_set', 'Validation_set',]\n",
    "colors = ['y', 'r', 'b']\n",
    "for target, color in zip(targets,colors):\n",
    "    indicesToKeep = X['labels'] == target\n",
    "    ax.scatter(principal_df.loc[indicesToKeep, 'principal component 1']\n",
    "               , principal_df.loc[indicesToKeep, 'principal component 2'],\n",
    "               principal_df.loc[indicesToKeep, 'principal component 3'], c = color, s = 50)\n",
    "\n",
    "ax.legend(targets,prop={'size': 15})\n",
    "ax.view_init(30,15)"
   ]
  },
  {
   "cell_type": "markdown",
   "id": "4fd869e1",
   "metadata": {},
   "source": [
    "## Implementing different Algorithms & checking prediction scores"
   ]
  },
  {
   "cell_type": "markdown",
   "id": "1db78b8b-5fe4-4413-b42b-80396e916780",
   "metadata": {},
   "source": [
    "## 1) Bernoulli NB"
   ]
  },
  {
   "cell_type": "code",
   "execution_count": 26,
   "id": "b82bb2bf-3f89-474a-8f5a-286e7f79ff67",
   "metadata": {},
   "outputs": [
    {
     "data": {
      "text/plain": [
       "0.5187861271676301"
      ]
     },
     "execution_count": 26,
     "metadata": {},
     "output_type": "execute_result"
    }
   ],
   "source": [
    "clf1 = BernoulliNB()\n",
    "clf1.fit(X_train.iloc[0:,:-1], y_train.values.ravel())\n",
    "\n",
    "y_predict1 = clf1.predict(X_test.iloc[0:,:-1])\n",
    "clf1.score(X_test.iloc[0:,:-1], y_test)"
   ]
  },
  {
   "cell_type": "markdown",
   "id": "f5542cb0-ea65-423a-8cf3-de5836c6b832",
   "metadata": {},
   "source": [
    "## 2) Gaussian NB"
   ]
  },
  {
   "cell_type": "markdown",
   "id": "12028977-dbb0-486b-b8a4-3361a959da57",
   "metadata": {},
   "source": [
    "## GridSearch CV"
   ]
  },
  {
   "cell_type": "code",
   "execution_count": 27,
   "id": "47953b37-a9e4-44d7-a982-65508031d1c5",
   "metadata": {},
   "outputs": [
    {
     "data": {
      "text/plain": [
       "0.5390173410404624"
      ]
     },
     "execution_count": 27,
     "metadata": {},
     "output_type": "execute_result"
    }
   ],
   "source": [
    "param = {'var_smoothing' : [0.15,0.015,0.0015,0.00015,0.000015,0.0000015]}\n",
    "model_rs = GridSearchCV(estimator=GaussianNB(),param_grid=param, scoring = 'accuracy',n_jobs=4,cv=10,refit=True,return_train_score=True)\n",
    "model_rs.fit(X_train.iloc[0:,:-1], y_train.values.ravel())\n",
    "y_pred = model_rs.predict(X_test.iloc[0:,:-1])\n",
    "model_rs.score(X_test.iloc[0:,:-1], y_test)"
   ]
  },
  {
   "cell_type": "code",
   "execution_count": 28,
   "id": "83306673",
   "metadata": {},
   "outputs": [
    {
     "data": {
      "text/plain": [
       "0.5390173410404624"
      ]
     },
     "execution_count": 28,
     "metadata": {},
     "output_type": "execute_result"
    }
   ],
   "source": [
    "clf2 = GaussianNB(var_smoothing= 0.15)\n",
    "clf2.fit(X_train.iloc[0:,:-1], y_train.values.ravel())\n",
    "\n",
    "y_predict2 = clf2.predict(X_test.iloc[0:,:-1])\n",
    "clf2.score(X_test.iloc[0:,:-1], y_test)"
   ]
  },
  {
   "cell_type": "markdown",
   "id": "f7b14288",
   "metadata": {},
   "source": [
    "## 3) Logistic Regression"
   ]
  },
  {
   "cell_type": "markdown",
   "id": "8c838a57",
   "metadata": {},
   "source": [
    "## Identifying the value of the parameter C"
   ]
  },
  {
   "cell_type": "code",
   "execution_count": 29,
   "id": "65a1fe17-c384-4cf9-aa3f-69bd4df88b87",
   "metadata": {
    "tags": []
   },
   "outputs": [
    {
     "name": "stderr",
     "output_type": "stream",
     "text": [
      "D:\\Miscellenous\\Programs\\Python\\lib\\site-packages\\sklearn\\linear_model\\_logistic.py:814: ConvergenceWarning: lbfgs failed to converge (status=1):\n",
      "STOP: TOTAL NO. of ITERATIONS REACHED LIMIT.\n",
      "\n",
      "Increase the number of iterations (max_iter) or scale the data as shown in:\n",
      "    https://scikit-learn.org/stable/modules/preprocessing.html\n",
      "Please also refer to the documentation for alternative solver options:\n",
      "    https://scikit-learn.org/stable/modules/linear_model.html#logistic-regression\n",
      "  n_iter_i = _check_optimize_result(\n",
      "D:\\Miscellenous\\Programs\\Python\\lib\\site-packages\\sklearn\\linear_model\\_logistic.py:814: ConvergenceWarning: lbfgs failed to converge (status=1):\n",
      "STOP: TOTAL NO. of ITERATIONS REACHED LIMIT.\n",
      "\n",
      "Increase the number of iterations (max_iter) or scale the data as shown in:\n",
      "    https://scikit-learn.org/stable/modules/preprocessing.html\n",
      "Please also refer to the documentation for alternative solver options:\n",
      "    https://scikit-learn.org/stable/modules/linear_model.html#logistic-regression\n",
      "  n_iter_i = _check_optimize_result(\n"
     ]
    },
    {
     "name": "stdout",
     "output_type": "stream",
     "text": [
      "1 0.6734104046242775\n"
     ]
    },
    {
     "name": "stderr",
     "output_type": "stream",
     "text": [
      "D:\\Miscellenous\\Programs\\Python\\lib\\site-packages\\sklearn\\linear_model\\_logistic.py:814: ConvergenceWarning: lbfgs failed to converge (status=1):\n",
      "STOP: TOTAL NO. of ITERATIONS REACHED LIMIT.\n",
      "\n",
      "Increase the number of iterations (max_iter) or scale the data as shown in:\n",
      "    https://scikit-learn.org/stable/modules/preprocessing.html\n",
      "Please also refer to the documentation for alternative solver options:\n",
      "    https://scikit-learn.org/stable/modules/linear_model.html#logistic-regression\n",
      "  n_iter_i = _check_optimize_result(\n",
      "D:\\Miscellenous\\Programs\\Python\\lib\\site-packages\\sklearn\\linear_model\\_logistic.py:814: ConvergenceWarning: lbfgs failed to converge (status=1):\n",
      "STOP: TOTAL NO. of ITERATIONS REACHED LIMIT.\n",
      "\n",
      "Increase the number of iterations (max_iter) or scale the data as shown in:\n",
      "    https://scikit-learn.org/stable/modules/preprocessing.html\n",
      "Please also refer to the documentation for alternative solver options:\n",
      "    https://scikit-learn.org/stable/modules/linear_model.html#logistic-regression\n",
      "  n_iter_i = _check_optimize_result(\n"
     ]
    },
    {
     "name": "stdout",
     "output_type": "stream",
     "text": [
      "2 0.6719653179190751\n"
     ]
    },
    {
     "name": "stderr",
     "output_type": "stream",
     "text": [
      "D:\\Miscellenous\\Programs\\Python\\lib\\site-packages\\sklearn\\linear_model\\_logistic.py:814: ConvergenceWarning: lbfgs failed to converge (status=1):\n",
      "STOP: TOTAL NO. of ITERATIONS REACHED LIMIT.\n",
      "\n",
      "Increase the number of iterations (max_iter) or scale the data as shown in:\n",
      "    https://scikit-learn.org/stable/modules/preprocessing.html\n",
      "Please also refer to the documentation for alternative solver options:\n",
      "    https://scikit-learn.org/stable/modules/linear_model.html#logistic-regression\n",
      "  n_iter_i = _check_optimize_result(\n",
      "D:\\Miscellenous\\Programs\\Python\\lib\\site-packages\\sklearn\\linear_model\\_logistic.py:814: ConvergenceWarning: lbfgs failed to converge (status=1):\n",
      "STOP: TOTAL NO. of ITERATIONS REACHED LIMIT.\n",
      "\n",
      "Increase the number of iterations (max_iter) or scale the data as shown in:\n",
      "    https://scikit-learn.org/stable/modules/preprocessing.html\n",
      "Please also refer to the documentation for alternative solver options:\n",
      "    https://scikit-learn.org/stable/modules/linear_model.html#logistic-regression\n",
      "  n_iter_i = _check_optimize_result(\n",
      "D:\\Miscellenous\\Programs\\Python\\lib\\site-packages\\sklearn\\linear_model\\_logistic.py:814: ConvergenceWarning: lbfgs failed to converge (status=1):\n",
      "STOP: TOTAL NO. of ITERATIONS REACHED LIMIT.\n",
      "\n",
      "Increase the number of iterations (max_iter) or scale the data as shown in:\n",
      "    https://scikit-learn.org/stable/modules/preprocessing.html\n",
      "Please also refer to the documentation for alternative solver options:\n",
      "    https://scikit-learn.org/stable/modules/linear_model.html#logistic-regression\n",
      "  n_iter_i = _check_optimize_result(\n"
     ]
    },
    {
     "name": "stdout",
     "output_type": "stream",
     "text": [
      "3 0.6763005780346821\n"
     ]
    },
    {
     "name": "stderr",
     "output_type": "stream",
     "text": [
      "D:\\Miscellenous\\Programs\\Python\\lib\\site-packages\\sklearn\\linear_model\\_logistic.py:814: ConvergenceWarning: lbfgs failed to converge (status=1):\n",
      "STOP: TOTAL NO. of ITERATIONS REACHED LIMIT.\n",
      "\n",
      "Increase the number of iterations (max_iter) or scale the data as shown in:\n",
      "    https://scikit-learn.org/stable/modules/preprocessing.html\n",
      "Please also refer to the documentation for alternative solver options:\n",
      "    https://scikit-learn.org/stable/modules/linear_model.html#logistic-regression\n",
      "  n_iter_i = _check_optimize_result(\n",
      "D:\\Miscellenous\\Programs\\Python\\lib\\site-packages\\sklearn\\linear_model\\_logistic.py:814: ConvergenceWarning: lbfgs failed to converge (status=1):\n",
      "STOP: TOTAL NO. of ITERATIONS REACHED LIMIT.\n",
      "\n",
      "Increase the number of iterations (max_iter) or scale the data as shown in:\n",
      "    https://scikit-learn.org/stable/modules/preprocessing.html\n",
      "Please also refer to the documentation for alternative solver options:\n",
      "    https://scikit-learn.org/stable/modules/linear_model.html#logistic-regression\n",
      "  n_iter_i = _check_optimize_result(\n",
      "D:\\Miscellenous\\Programs\\Python\\lib\\site-packages\\sklearn\\linear_model\\_logistic.py:814: ConvergenceWarning: lbfgs failed to converge (status=1):\n",
      "STOP: TOTAL NO. of ITERATIONS REACHED LIMIT.\n",
      "\n",
      "Increase the number of iterations (max_iter) or scale the data as shown in:\n",
      "    https://scikit-learn.org/stable/modules/preprocessing.html\n",
      "Please also refer to the documentation for alternative solver options:\n",
      "    https://scikit-learn.org/stable/modules/linear_model.html#logistic-regression\n",
      "  n_iter_i = _check_optimize_result(\n"
     ]
    },
    {
     "name": "stdout",
     "output_type": "stream",
     "text": [
      "4 0.6734104046242775\n"
     ]
    },
    {
     "name": "stderr",
     "output_type": "stream",
     "text": [
      "D:\\Miscellenous\\Programs\\Python\\lib\\site-packages\\sklearn\\linear_model\\_logistic.py:814: ConvergenceWarning: lbfgs failed to converge (status=1):\n",
      "STOP: TOTAL NO. of ITERATIONS REACHED LIMIT.\n",
      "\n",
      "Increase the number of iterations (max_iter) or scale the data as shown in:\n",
      "    https://scikit-learn.org/stable/modules/preprocessing.html\n",
      "Please also refer to the documentation for alternative solver options:\n",
      "    https://scikit-learn.org/stable/modules/linear_model.html#logistic-regression\n",
      "  n_iter_i = _check_optimize_result(\n",
      "D:\\Miscellenous\\Programs\\Python\\lib\\site-packages\\sklearn\\linear_model\\_logistic.py:814: ConvergenceWarning: lbfgs failed to converge (status=1):\n",
      "STOP: TOTAL NO. of ITERATIONS REACHED LIMIT.\n",
      "\n",
      "Increase the number of iterations (max_iter) or scale the data as shown in:\n",
      "    https://scikit-learn.org/stable/modules/preprocessing.html\n",
      "Please also refer to the documentation for alternative solver options:\n",
      "    https://scikit-learn.org/stable/modules/linear_model.html#logistic-regression\n",
      "  n_iter_i = _check_optimize_result(\n",
      "D:\\Miscellenous\\Programs\\Python\\lib\\site-packages\\sklearn\\linear_model\\_logistic.py:814: ConvergenceWarning: lbfgs failed to converge (status=1):\n",
      "STOP: TOTAL NO. of ITERATIONS REACHED LIMIT.\n",
      "\n",
      "Increase the number of iterations (max_iter) or scale the data as shown in:\n",
      "    https://scikit-learn.org/stable/modules/preprocessing.html\n",
      "Please also refer to the documentation for alternative solver options:\n",
      "    https://scikit-learn.org/stable/modules/linear_model.html#logistic-regression\n",
      "  n_iter_i = _check_optimize_result(\n"
     ]
    },
    {
     "name": "stdout",
     "output_type": "stream",
     "text": [
      "5 0.6719653179190751\n"
     ]
    },
    {
     "name": "stderr",
     "output_type": "stream",
     "text": [
      "D:\\Miscellenous\\Programs\\Python\\lib\\site-packages\\sklearn\\linear_model\\_logistic.py:814: ConvergenceWarning: lbfgs failed to converge (status=1):\n",
      "STOP: TOTAL NO. of ITERATIONS REACHED LIMIT.\n",
      "\n",
      "Increase the number of iterations (max_iter) or scale the data as shown in:\n",
      "    https://scikit-learn.org/stable/modules/preprocessing.html\n",
      "Please also refer to the documentation for alternative solver options:\n",
      "    https://scikit-learn.org/stable/modules/linear_model.html#logistic-regression\n",
      "  n_iter_i = _check_optimize_result(\n",
      "D:\\Miscellenous\\Programs\\Python\\lib\\site-packages\\sklearn\\linear_model\\_logistic.py:814: ConvergenceWarning: lbfgs failed to converge (status=1):\n",
      "STOP: TOTAL NO. of ITERATIONS REACHED LIMIT.\n",
      "\n",
      "Increase the number of iterations (max_iter) or scale the data as shown in:\n",
      "    https://scikit-learn.org/stable/modules/preprocessing.html\n",
      "Please also refer to the documentation for alternative solver options:\n",
      "    https://scikit-learn.org/stable/modules/linear_model.html#logistic-regression\n",
      "  n_iter_i = _check_optimize_result(\n",
      "D:\\Miscellenous\\Programs\\Python\\lib\\site-packages\\sklearn\\linear_model\\_logistic.py:814: ConvergenceWarning: lbfgs failed to converge (status=1):\n",
      "STOP: TOTAL NO. of ITERATIONS REACHED LIMIT.\n",
      "\n",
      "Increase the number of iterations (max_iter) or scale the data as shown in:\n",
      "    https://scikit-learn.org/stable/modules/preprocessing.html\n",
      "Please also refer to the documentation for alternative solver options:\n",
      "    https://scikit-learn.org/stable/modules/linear_model.html#logistic-regression\n",
      "  n_iter_i = _check_optimize_result(\n"
     ]
    },
    {
     "name": "stdout",
     "output_type": "stream",
     "text": [
      "6 0.6719653179190751\n"
     ]
    },
    {
     "name": "stderr",
     "output_type": "stream",
     "text": [
      "D:\\Miscellenous\\Programs\\Python\\lib\\site-packages\\sklearn\\linear_model\\_logistic.py:814: ConvergenceWarning: lbfgs failed to converge (status=1):\n",
      "STOP: TOTAL NO. of ITERATIONS REACHED LIMIT.\n",
      "\n",
      "Increase the number of iterations (max_iter) or scale the data as shown in:\n",
      "    https://scikit-learn.org/stable/modules/preprocessing.html\n",
      "Please also refer to the documentation for alternative solver options:\n",
      "    https://scikit-learn.org/stable/modules/linear_model.html#logistic-regression\n",
      "  n_iter_i = _check_optimize_result(\n",
      "D:\\Miscellenous\\Programs\\Python\\lib\\site-packages\\sklearn\\linear_model\\_logistic.py:814: ConvergenceWarning: lbfgs failed to converge (status=1):\n",
      "STOP: TOTAL NO. of ITERATIONS REACHED LIMIT.\n",
      "\n",
      "Increase the number of iterations (max_iter) or scale the data as shown in:\n",
      "    https://scikit-learn.org/stable/modules/preprocessing.html\n",
      "Please also refer to the documentation for alternative solver options:\n",
      "    https://scikit-learn.org/stable/modules/linear_model.html#logistic-regression\n",
      "  n_iter_i = _check_optimize_result(\n",
      "D:\\Miscellenous\\Programs\\Python\\lib\\site-packages\\sklearn\\linear_model\\_logistic.py:814: ConvergenceWarning: lbfgs failed to converge (status=1):\n",
      "STOP: TOTAL NO. of ITERATIONS REACHED LIMIT.\n",
      "\n",
      "Increase the number of iterations (max_iter) or scale the data as shown in:\n",
      "    https://scikit-learn.org/stable/modules/preprocessing.html\n",
      "Please also refer to the documentation for alternative solver options:\n",
      "    https://scikit-learn.org/stable/modules/linear_model.html#logistic-regression\n",
      "  n_iter_i = _check_optimize_result(\n"
     ]
    },
    {
     "name": "stdout",
     "output_type": "stream",
     "text": [
      "7 0.6690751445086706\n"
     ]
    },
    {
     "name": "stderr",
     "output_type": "stream",
     "text": [
      "D:\\Miscellenous\\Programs\\Python\\lib\\site-packages\\sklearn\\linear_model\\_logistic.py:814: ConvergenceWarning: lbfgs failed to converge (status=1):\n",
      "STOP: TOTAL NO. of ITERATIONS REACHED LIMIT.\n",
      "\n",
      "Increase the number of iterations (max_iter) or scale the data as shown in:\n",
      "    https://scikit-learn.org/stable/modules/preprocessing.html\n",
      "Please also refer to the documentation for alternative solver options:\n",
      "    https://scikit-learn.org/stable/modules/linear_model.html#logistic-regression\n",
      "  n_iter_i = _check_optimize_result(\n",
      "D:\\Miscellenous\\Programs\\Python\\lib\\site-packages\\sklearn\\linear_model\\_logistic.py:814: ConvergenceWarning: lbfgs failed to converge (status=1):\n",
      "STOP: TOTAL NO. of ITERATIONS REACHED LIMIT.\n",
      "\n",
      "Increase the number of iterations (max_iter) or scale the data as shown in:\n",
      "    https://scikit-learn.org/stable/modules/preprocessing.html\n",
      "Please also refer to the documentation for alternative solver options:\n",
      "    https://scikit-learn.org/stable/modules/linear_model.html#logistic-regression\n",
      "  n_iter_i = _check_optimize_result(\n",
      "D:\\Miscellenous\\Programs\\Python\\lib\\site-packages\\sklearn\\linear_model\\_logistic.py:814: ConvergenceWarning: lbfgs failed to converge (status=1):\n",
      "STOP: TOTAL NO. of ITERATIONS REACHED LIMIT.\n",
      "\n",
      "Increase the number of iterations (max_iter) or scale the data as shown in:\n",
      "    https://scikit-learn.org/stable/modules/preprocessing.html\n",
      "Please also refer to the documentation for alternative solver options:\n",
      "    https://scikit-learn.org/stable/modules/linear_model.html#logistic-regression\n",
      "  n_iter_i = _check_optimize_result(\n"
     ]
    },
    {
     "name": "stdout",
     "output_type": "stream",
     "text": [
      "8 0.6690751445086706\n"
     ]
    },
    {
     "name": "stderr",
     "output_type": "stream",
     "text": [
      "D:\\Miscellenous\\Programs\\Python\\lib\\site-packages\\sklearn\\linear_model\\_logistic.py:814: ConvergenceWarning: lbfgs failed to converge (status=1):\n",
      "STOP: TOTAL NO. of ITERATIONS REACHED LIMIT.\n",
      "\n",
      "Increase the number of iterations (max_iter) or scale the data as shown in:\n",
      "    https://scikit-learn.org/stable/modules/preprocessing.html\n",
      "Please also refer to the documentation for alternative solver options:\n",
      "    https://scikit-learn.org/stable/modules/linear_model.html#logistic-regression\n",
      "  n_iter_i = _check_optimize_result(\n",
      "D:\\Miscellenous\\Programs\\Python\\lib\\site-packages\\sklearn\\linear_model\\_logistic.py:814: ConvergenceWarning: lbfgs failed to converge (status=1):\n",
      "STOP: TOTAL NO. of ITERATIONS REACHED LIMIT.\n",
      "\n",
      "Increase the number of iterations (max_iter) or scale the data as shown in:\n",
      "    https://scikit-learn.org/stable/modules/preprocessing.html\n",
      "Please also refer to the documentation for alternative solver options:\n",
      "    https://scikit-learn.org/stable/modules/linear_model.html#logistic-regression\n",
      "  n_iter_i = _check_optimize_result(\n"
     ]
    },
    {
     "name": "stdout",
     "output_type": "stream",
     "text": [
      "9 0.6719653179190751\n"
     ]
    },
    {
     "name": "stderr",
     "output_type": "stream",
     "text": [
      "D:\\Miscellenous\\Programs\\Python\\lib\\site-packages\\sklearn\\linear_model\\_logistic.py:814: ConvergenceWarning: lbfgs failed to converge (status=1):\n",
      "STOP: TOTAL NO. of ITERATIONS REACHED LIMIT.\n",
      "\n",
      "Increase the number of iterations (max_iter) or scale the data as shown in:\n",
      "    https://scikit-learn.org/stable/modules/preprocessing.html\n",
      "Please also refer to the documentation for alternative solver options:\n",
      "    https://scikit-learn.org/stable/modules/linear_model.html#logistic-regression\n",
      "  n_iter_i = _check_optimize_result(\n"
     ]
    }
   ],
   "source": [
    "for i in range(1,10):\n",
    "    lr = LogisticRegression(C=i,multi_class='ovr', max_iter=500)\n",
    "    lr.fit(X_train.iloc[0:,:-1], y_train.values.ravel())\n",
    "    pred = lr.predict(X_test.iloc[0:,:-1])\n",
    "    w = accuracy_score(pred, y_test)\n",
    "    print(i, w)"
   ]
  },
  {
   "cell_type": "code",
   "execution_count": 30,
   "id": "b61c5ad4-973b-4d2a-a4e8-2440607cdf4d",
   "metadata": {},
   "outputs": [
    {
     "name": "stderr",
     "output_type": "stream",
     "text": [
      "D:\\Miscellenous\\Programs\\Python\\lib\\site-packages\\sklearn\\linear_model\\_logistic.py:814: ConvergenceWarning: lbfgs failed to converge (status=1):\n",
      "STOP: TOTAL NO. of ITERATIONS REACHED LIMIT.\n",
      "\n",
      "Increase the number of iterations (max_iter) or scale the data as shown in:\n",
      "    https://scikit-learn.org/stable/modules/preprocessing.html\n",
      "Please also refer to the documentation for alternative solver options:\n",
      "    https://scikit-learn.org/stable/modules/linear_model.html#logistic-regression\n",
      "  n_iter_i = _check_optimize_result(\n"
     ]
    },
    {
     "name": "stdout",
     "output_type": "stream",
     "text": [
      "1 0.661849710982659\n"
     ]
    },
    {
     "name": "stderr",
     "output_type": "stream",
     "text": [
      "D:\\Miscellenous\\Programs\\Python\\lib\\site-packages\\sklearn\\linear_model\\_logistic.py:814: ConvergenceWarning: lbfgs failed to converge (status=1):\n",
      "STOP: TOTAL NO. of ITERATIONS REACHED LIMIT.\n",
      "\n",
      "Increase the number of iterations (max_iter) or scale the data as shown in:\n",
      "    https://scikit-learn.org/stable/modules/preprocessing.html\n",
      "Please also refer to the documentation for alternative solver options:\n",
      "    https://scikit-learn.org/stable/modules/linear_model.html#logistic-regression\n",
      "  n_iter_i = _check_optimize_result(\n"
     ]
    },
    {
     "name": "stdout",
     "output_type": "stream",
     "text": [
      "2 0.6604046242774566\n"
     ]
    },
    {
     "name": "stderr",
     "output_type": "stream",
     "text": [
      "D:\\Miscellenous\\Programs\\Python\\lib\\site-packages\\sklearn\\linear_model\\_logistic.py:814: ConvergenceWarning: lbfgs failed to converge (status=1):\n",
      "STOP: TOTAL NO. of ITERATIONS REACHED LIMIT.\n",
      "\n",
      "Increase the number of iterations (max_iter) or scale the data as shown in:\n",
      "    https://scikit-learn.org/stable/modules/preprocessing.html\n",
      "Please also refer to the documentation for alternative solver options:\n",
      "    https://scikit-learn.org/stable/modules/linear_model.html#logistic-regression\n",
      "  n_iter_i = _check_optimize_result(\n"
     ]
    },
    {
     "name": "stdout",
     "output_type": "stream",
     "text": [
      "3 0.661849710982659\n",
      "4 0.661849710982659\n"
     ]
    },
    {
     "name": "stderr",
     "output_type": "stream",
     "text": [
      "D:\\Miscellenous\\Programs\\Python\\lib\\site-packages\\sklearn\\linear_model\\_logistic.py:814: ConvergenceWarning: lbfgs failed to converge (status=1):\n",
      "STOP: TOTAL NO. of ITERATIONS REACHED LIMIT.\n",
      "\n",
      "Increase the number of iterations (max_iter) or scale the data as shown in:\n",
      "    https://scikit-learn.org/stable/modules/preprocessing.html\n",
      "Please also refer to the documentation for alternative solver options:\n",
      "    https://scikit-learn.org/stable/modules/linear_model.html#logistic-regression\n",
      "  n_iter_i = _check_optimize_result(\n"
     ]
    }
   ],
   "source": [
    "for i in range(1,5):\n",
    "    lr = LogisticRegression(C=i,multi_class='multinomial', max_iter=500)\n",
    "    lr.fit(X_train.iloc[0:,:-1], y_train.values.ravel())\n",
    "    pred = lr.predict(X_test.iloc[0:,:-1])\n",
    "    w = accuracy_score(pred, y_test)\n",
    "    print(i, w)"
   ]
  },
  {
   "cell_type": "code",
   "execution_count": 31,
   "id": "ebd4f504",
   "metadata": {},
   "outputs": [
    {
     "name": "stderr",
     "output_type": "stream",
     "text": [
      "D:\\Miscellenous\\Programs\\Python\\lib\\site-packages\\sklearn\\linear_model\\_logistic.py:814: ConvergenceWarning: lbfgs failed to converge (status=1):\n",
      "STOP: TOTAL NO. of ITERATIONS REACHED LIMIT.\n",
      "\n",
      "Increase the number of iterations (max_iter) or scale the data as shown in:\n",
      "    https://scikit-learn.org/stable/modules/preprocessing.html\n",
      "Please also refer to the documentation for alternative solver options:\n",
      "    https://scikit-learn.org/stable/modules/linear_model.html#logistic-regression\n",
      "  n_iter_i = _check_optimize_result(\n",
      "D:\\Miscellenous\\Programs\\Python\\lib\\site-packages\\sklearn\\linear_model\\_logistic.py:814: ConvergenceWarning: lbfgs failed to converge (status=1):\n",
      "STOP: TOTAL NO. of ITERATIONS REACHED LIMIT.\n",
      "\n",
      "Increase the number of iterations (max_iter) or scale the data as shown in:\n",
      "    https://scikit-learn.org/stable/modules/preprocessing.html\n",
      "Please also refer to the documentation for alternative solver options:\n",
      "    https://scikit-learn.org/stable/modules/linear_model.html#logistic-regression\n",
      "  n_iter_i = _check_optimize_result(\n",
      "D:\\Miscellenous\\Programs\\Python\\lib\\site-packages\\sklearn\\linear_model\\_logistic.py:814: ConvergenceWarning: lbfgs failed to converge (status=1):\n",
      "STOP: TOTAL NO. of ITERATIONS REACHED LIMIT.\n",
      "\n",
      "Increase the number of iterations (max_iter) or scale the data as shown in:\n",
      "    https://scikit-learn.org/stable/modules/preprocessing.html\n",
      "Please also refer to the documentation for alternative solver options:\n",
      "    https://scikit-learn.org/stable/modules/linear_model.html#logistic-regression\n",
      "  n_iter_i = _check_optimize_result(\n"
     ]
    },
    {
     "data": {
      "text/plain": [
       "0.6763005780346821"
      ]
     },
     "execution_count": 31,
     "metadata": {},
     "output_type": "execute_result"
    }
   ],
   "source": [
    "clf3 = LogisticRegression(C=3, multi_class='ovr', max_iter=500 )\n",
    "clf3.fit(X_train.iloc[0:,:-1], y_train.values.ravel())\n",
    "y_predict3= clf3.predict(X_test.iloc[0:,:-1])\n",
    "clf3.score(X_test.iloc[0:,:-1], y_test)"
   ]
  },
  {
   "cell_type": "markdown",
   "id": "418b9c8f",
   "metadata": {},
   "source": [
    "## 4) KNN"
   ]
  },
  {
   "cell_type": "markdown",
   "id": "3f17419d",
   "metadata": {},
   "source": [
    "## Identifying the value of the parameter n_neighbours"
   ]
  },
  {
   "cell_type": "code",
   "execution_count": 32,
   "id": "908bd2bf",
   "metadata": {},
   "outputs": [
    {
     "name": "stdout",
     "output_type": "stream",
     "text": [
      "1 0.6575144508670521\n",
      "2 0.653179190751445\n",
      "3 0.6589595375722543\n",
      "4 0.6878612716763006\n",
      "5 0.680635838150289\n",
      "6 0.6734104046242775\n",
      "7 0.6734104046242775\n",
      "8 0.661849710982659\n",
      "9 0.6777456647398844\n",
      "10 0.6705202312138728\n",
      "11 0.661849710982659\n",
      "12 0.661849710982659\n",
      "13 0.6589595375722543\n",
      "14 0.661849710982659\n"
     ]
    }
   ],
   "source": [
    "for i in range(1,15):\n",
    "    knn = KNeighborsClassifier(n_neighbors=i, metric = 'euclidean')\n",
    "    knn.fit(X_train.iloc[0:,:-1], y_train.values.ravel())\n",
    "    pred = knn.predict(X_test.iloc[0:,:-1])\n",
    "    w = accuracy_score(pred, y_test)\n",
    "    print(i, w)"
   ]
  },
  {
   "cell_type": "code",
   "execution_count": 33,
   "id": "c269284d-50fe-4f44-976e-cabd35f92b1c",
   "metadata": {},
   "outputs": [
    {
     "name": "stdout",
     "output_type": "stream",
     "text": [
      "1 0.6575144508670521\n",
      "2 0.653179190751445\n",
      "3 0.6589595375722543\n",
      "4 0.6878612716763006\n",
      "5 0.680635838150289\n",
      "6 0.6734104046242775\n",
      "7 0.6734104046242775\n",
      "8 0.661849710982659\n",
      "9 0.6777456647398844\n",
      "10 0.6705202312138728\n"
     ]
    }
   ],
   "source": [
    "for i in range(1,11):\n",
    "    knn = KNeighborsClassifier(n_neighbors=i, metric = 'minkowski')\n",
    "    knn.fit(X_train.iloc[0:,:-1], y_train.values.ravel())\n",
    "    pred = knn.predict(X_test.iloc[0:,:-1])\n",
    "    w = accuracy_score(pred, y_test)\n",
    "    print(i, w)"
   ]
  },
  {
   "cell_type": "code",
   "execution_count": 34,
   "id": "9ba03272",
   "metadata": {},
   "outputs": [
    {
     "data": {
      "text/plain": [
       "0.6878612716763006"
      ]
     },
     "execution_count": 34,
     "metadata": {},
     "output_type": "execute_result"
    }
   ],
   "source": [
    "clf4 = KNeighborsClassifier(n_neighbors= 4, metric= 'euclidean')\n",
    "clf4.fit(X_train.iloc[0:,:-1], y_train.values.ravel())\n",
    "\n",
    "y_predict4 = clf4.predict(X_test.iloc[0:,:-1])\n",
    "clf4.score(X_test.iloc[0:,:-1], y_test)"
   ]
  },
  {
   "cell_type": "markdown",
   "id": "bee72767",
   "metadata": {},
   "source": [
    "## 5) Random Forest Classifier"
   ]
  },
  {
   "cell_type": "markdown",
   "id": "07cbffab",
   "metadata": {},
   "source": [
    "## Identifying the value of the parameters"
   ]
  },
  {
   "cell_type": "code",
   "execution_count": 35,
   "id": "05f9f258",
   "metadata": {},
   "outputs": [
    {
     "name": "stdout",
     "output_type": "stream",
     "text": [
      "80 0.7008670520231214\n",
      "81 0.6965317919075145\n",
      "82 0.7008670520231214\n",
      "83 0.6950867052023122\n",
      "84 0.6979768786127167\n",
      "85 0.6979768786127167\n",
      "86 0.7023121387283237\n",
      "87 0.6994219653179191\n",
      "88 0.6979768786127167\n",
      "89 0.6950867052023122\n"
     ]
    }
   ],
   "source": [
    "for i in range(80,90):\n",
    "    rfc = RandomForestClassifier(n_estimators= i, criterion=\"entropy\", random_state= 42)\n",
    "    rfc.fit(X_train.iloc[0:,:-1], y_train.values.ravel())\n",
    "    y_pred = rfc.predict(X_test.iloc[0:,:-1])\n",
    "    w = rfc.score(X_test.iloc[0:,:-1], y_test)\n",
    "    print(i, w)"
   ]
  },
  {
   "cell_type": "code",
   "execution_count": 36,
   "id": "df042435",
   "metadata": {},
   "outputs": [
    {
     "name": "stdout",
     "output_type": "stream",
     "text": [
      "1 0.5924855491329479\n",
      "2 0.6213872832369942\n",
      "3 0.6416184971098265\n",
      "4 0.6661849710982659\n",
      "5 0.6632947976878613\n",
      "6 0.6647398843930635\n",
      "7 0.6647398843930635\n",
      "8 0.6690751445086706\n",
      "9 0.6690751445086706\n"
     ]
    }
   ],
   "source": [
    "for i in range(1,10):\n",
    "    rfc = RandomForestClassifier(n_estimators= i, criterion=\"gini\", random_state= 42)\n",
    "    rfc.fit(X_train.iloc[0:,:-1], y_train.values.ravel())\n",
    "    y_pred = rfc.predict(X_test.iloc[0:,:-1])\n",
    "    w = rfc.score(X_test.iloc[0:,:-1], y_test)\n",
    "    print(i, w)"
   ]
  },
  {
   "cell_type": "code",
   "execution_count": 37,
   "id": "db78bb44",
   "metadata": {},
   "outputs": [
    {
     "data": {
      "text/plain": [
       "0.7023121387283237"
      ]
     },
     "execution_count": 37,
     "metadata": {},
     "output_type": "execute_result"
    }
   ],
   "source": [
    "clf5= RandomForestClassifier(n_estimators= 86, criterion=\"entropy\", random_state= 42)  \n",
    "clf5.fit(X_train.iloc[0:,:-1], y_train.values.ravel())\n",
    "\n",
    "y_predict5 = clf5.predict(X_test.iloc[0:,:-1])\n",
    "clf5.score(X_test.iloc[0:,:-1], y_test)"
   ]
  },
  {
   "cell_type": "markdown",
   "id": "b3907b46",
   "metadata": {},
   "source": [
    "## 6) Support Vector Machines"
   ]
  },
  {
   "cell_type": "markdown",
   "id": "fb25eb14",
   "metadata": {},
   "source": [
    "## Identifying the value of the parameters"
   ]
  },
  {
   "cell_type": "code",
   "execution_count": 38,
   "id": "7b7175fc",
   "metadata": {},
   "outputs": [
    {
     "name": "stdout",
     "output_type": "stream",
     "text": [
      "1 0.6921965317919075\n",
      "2 0.6994219653179191\n",
      "3 0.7124277456647399\n",
      "4 0.7124277456647399\n",
      "5 0.7167630057803468\n",
      "6 0.703757225433526\n",
      "7 0.6994219653179191\n",
      "8 0.6936416184971098\n",
      "9 0.7008670520231214\n"
     ]
    }
   ],
   "source": [
    "for i in range(1,10):\n",
    "    svc = SVC(C=i, kernel='poly')\n",
    "    svc.fit(X_train.iloc[0:,:-1], y_train.values.ravel())\n",
    "    y_pred = svc.predict(X_test.iloc[0:,:-1])\n",
    "    w = svc.score(X_test.iloc[0:,:-1], y_test)\n",
    "    print(i, w)"
   ]
  },
  {
   "cell_type": "code",
   "execution_count": 39,
   "id": "3326f2dc",
   "metadata": {
    "scrolled": true
   },
   "outputs": [
    {
     "name": "stdout",
     "output_type": "stream",
     "text": [
      "1 0.6719653179190751\n",
      "2 0.6994219653179191\n",
      "3 0.703757225433526\n",
      "4 0.703757225433526\n",
      "5 0.7153179190751445\n",
      "6 0.7167630057803468\n",
      "7 0.7196531791907514\n",
      "8 0.7225433526011561\n",
      "9 0.7182080924855492\n"
     ]
    }
   ],
   "source": [
    "for i in range(1,10):\n",
    "    svc = SVC(C=i, kernel='rbf')\n",
    "    svc.fit(X_train.iloc[0:,:-1], y_train.values.ravel())\n",
    "    y_pred = svc.predict(X_test.iloc[0:,:-1])\n",
    "    w = svc.score(X_test.iloc[0:,:-1], y_test)\n",
    "    print(i, w)"
   ]
  },
  {
   "cell_type": "code",
   "execution_count": 40,
   "id": "9b35cf11",
   "metadata": {},
   "outputs": [
    {
     "data": {
      "text/plain": [
       "0.7153179190751445"
      ]
     },
     "execution_count": 40,
     "metadata": {},
     "output_type": "execute_result"
    }
   ],
   "source": [
    "clf6 = SVC(C=5, kernel='rbf') \n",
    "clf6.fit(X_train.iloc[0:,:-1], y_train.values.ravel())\n",
    "\n",
    "y_predict6= clf6.predict(X_test.iloc[0:,:-1])\n",
    "clf6.score(X_test.iloc[0:,:-1], y_test)"
   ]
  },
  {
   "cell_type": "markdown",
   "id": "5fb05f91",
   "metadata": {},
   "source": [
    "## Calculating scores and other metrics"
   ]
  },
  {
   "cell_type": "code",
   "execution_count": 41,
   "id": "305cf4cc-2881-4634-b677-94f0e458836d",
   "metadata": {},
   "outputs": [
    {
     "data": {
      "text/html": [
       "<div>\n",
       "<style scoped>\n",
       "    .dataframe tbody tr th:only-of-type {\n",
       "        vertical-align: middle;\n",
       "    }\n",
       "\n",
       "    .dataframe tbody tr th {\n",
       "        vertical-align: top;\n",
       "    }\n",
       "\n",
       "    .dataframe thead th {\n",
       "        text-align: right;\n",
       "    }\n",
       "</style>\n",
       "<table border=\"1\" class=\"dataframe\">\n",
       "  <thead>\n",
       "    <tr style=\"text-align: right;\">\n",
       "      <th></th>\n",
       "      <th>0</th>\n",
       "      <th>1</th>\n",
       "      <th>2</th>\n",
       "    </tr>\n",
       "  </thead>\n",
       "  <tbody>\n",
       "    <tr>\n",
       "      <th>0</th>\n",
       "      <td>201</td>\n",
       "      <td>15</td>\n",
       "      <td>38</td>\n",
       "    </tr>\n",
       "    <tr>\n",
       "      <th>1</th>\n",
       "      <td>14</td>\n",
       "      <td>198</td>\n",
       "      <td>34</td>\n",
       "    </tr>\n",
       "    <tr>\n",
       "      <th>2</th>\n",
       "      <td>50</td>\n",
       "      <td>46</td>\n",
       "      <td>96</td>\n",
       "    </tr>\n",
       "  </tbody>\n",
       "</table>\n",
       "</div>"
      ],
      "text/plain": [
       "     0    1   2\n",
       "0  201   15  38\n",
       "1   14  198  34\n",
       "2   50   46  96"
      ]
     },
     "execution_count": 41,
     "metadata": {},
     "output_type": "execute_result"
    }
   ],
   "source": [
    "cm = confusion_matrix(y_test, y_predict6)\n",
    "cm = pd.DataFrame(cm)\n",
    "cm"
   ]
  },
  {
   "cell_type": "code",
   "execution_count": 42,
   "id": "bef7d2cd-9ea0-462b-970d-1a9236081c20",
   "metadata": {},
   "outputs": [
    {
     "name": "stdout",
     "output_type": "stream",
     "text": [
      "0 0.8309248554913294 0.7913385826771654 0.7584905660377359 0.7745664739884395\n",
      "1 0.8424855491329479 0.8048780487804879 0.7644787644787645 0.7841584158415842\n",
      "2 0.7572254335260116 0.5 0.5714285714285714 0.5333333333333333\n"
     ]
    }
   ],
   "source": [
    "for i in range (cm.shape[0]):\n",
    "    TP = cm.iloc[i,i]\n",
    "    FP = cm.iloc[i,:].sum()- TP\n",
    "    FN = cm.iloc[:,i].sum() - TP\n",
    "    TN = cm.sum().sum() - TP-FP-FN\n",
    "    Accuracy = (TP + TN)/cm.sum().sum()\n",
    "    precision = TP/(TP+FP)\n",
    "    recall = TP/(TP+FN)\n",
    "    f1 = (2*precision*recall)/(precision+recall)\n",
    "    print (cm.index[i], Accuracy, precision, recall, f1)"
   ]
  },
  {
   "cell_type": "code",
   "execution_count": 43,
   "id": "00a9ea16-f8ac-4ceb-937e-2d2ea36434d0",
   "metadata": {},
   "outputs": [
    {
     "data": {
      "text/plain": [
       "0.711044587702447"
      ]
     },
     "execution_count": 43,
     "metadata": {},
     "output_type": "execute_result"
    }
   ],
   "source": [
    "f1_score(y_test, y_predict6, average= 'weighted')"
   ]
  },
  {
   "cell_type": "markdown",
   "id": "477bd7a0",
   "metadata": {},
   "source": [
    "## Launching the desired Model"
   ]
  },
  {
   "cell_type": "code",
   "execution_count": 44,
   "id": "98e637ea",
   "metadata": {},
   "outputs": [
    {
     "data": {
      "text/plain": [
       "['Model.joblib']"
      ]
     },
     "execution_count": 44,
     "metadata": {},
     "output_type": "execute_result"
    }
   ],
   "source": [
    "dump(SVC(C=5.0, kernel='rbf') , 'Model.joblib')"
   ]
  }
 ],
 "metadata": {
  "kernelspec": {
   "display_name": "Python 3 (ipykernel)",
   "language": "python",
   "name": "python3"
  },
  "language_info": {
   "codemirror_mode": {
    "name": "ipython",
    "version": 3
   },
   "file_extension": ".py",
   "mimetype": "text/x-python",
   "name": "python",
   "nbconvert_exporter": "python",
   "pygments_lexer": "ipython3",
   "version": "3.10.3"
  }
 },
 "nbformat": 4,
 "nbformat_minor": 5
}
